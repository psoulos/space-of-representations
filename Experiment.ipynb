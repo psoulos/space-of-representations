{
 "cells": [
  {
   "cell_type": "code",
   "execution_count": 1,
   "metadata": {
    "scrolled": true
   },
   "outputs": [
    {
     "name": "stdout",
     "output_type": "stream",
     "text": [
      "Extracting data/train-images-idx3-ubyte.gz\n",
      "Extracting data/train-labels-idx1-ubyte.gz\n",
      "Extracting data/t10k-images-idx3-ubyte.gz\n",
      "Extracting data/t10k-labels-idx1-ubyte.gz\n",
      "Extracting data/train-images-idx3-ubyte.gz\n",
      "Extracting data/train-labels-idx1-ubyte.gz\n",
      "Extracting data/t10k-images-idx3-ubyte.gz\n",
      "Extracting data/t10k-labels-idx1-ubyte.gz\n",
      "Loading the model from folder: /home/psoulos/workspace/space-of-representations/results/FullyConnected10EluDiscriminator/2017-05-03-12-32-04/checkpoints/\n",
      "INFO:tensorflow:Restoring parameters from /home/psoulos/workspace/space-of-representations/results/FullyConnected10EluDiscriminator/2017-05-03-12-32-04/checkpoints/checkpoint-50000\n",
      "Extracting data/train-images-idx3-ubyte.gz\n",
      "Extracting data/train-labels-idx1-ubyte.gz\n",
      "Extracting data/t10k-images-idx3-ubyte.gz\n",
      "Extracting data/t10k-labels-idx1-ubyte.gz\n",
      "Loading the model from folder: /home/psoulos/workspace/space-of-representations/results/FullyConnected100ReluDiscriminator/2017-05-03-11-42-37/checkpoints/\n",
      "INFO:tensorflow:Restoring parameters from /home/psoulos/workspace/space-of-representations/results/FullyConnected100ReluDiscriminator/2017-05-03-11-42-37/checkpoints/checkpoint-50000\n",
      "Extracting data/train-images-idx3-ubyte.gz\n",
      "Extracting data/train-labels-idx1-ubyte.gz\n",
      "Extracting data/t10k-images-idx3-ubyte.gz\n",
      "Extracting data/t10k-labels-idx1-ubyte.gz\n",
      "Loading the model from folder: /home/psoulos/workspace/space-of-representations/results/FullyConnected100EluDiscriminator/2017-05-03-12-33-06/checkpoints/\n",
      "INFO:tensorflow:Restoring parameters from /home/psoulos/workspace/space-of-representations/results/FullyConnected100EluDiscriminator/2017-05-03-12-33-06/checkpoints/checkpoint-50000\n",
      "Extracting data/train-images-idx3-ubyte.gz\n",
      "Extracting data/train-labels-idx1-ubyte.gz\n",
      "Extracting data/t10k-images-idx3-ubyte.gz\n",
      "Extracting data/t10k-labels-idx1-ubyte.gz\n",
      "Loading the model from folder: /home/psoulos/workspace/space-of-representations/results/FullyConnected10ReluDiscriminator/2017-05-04-10-38-11/checkpoints/\n",
      "INFO:tensorflow:Restoring parameters from /home/psoulos/workspace/space-of-representations/results/FullyConnected10ReluDiscriminator/2017-05-04-10-38-11/checkpoints/checkpoint-50000\n",
      "Extracting data/train-images-idx3-ubyte.gz\n",
      "Extracting data/train-labels-idx1-ubyte.gz\n",
      "Extracting data/t10k-images-idx3-ubyte.gz\n",
      "Extracting data/t10k-labels-idx1-ubyte.gz\n",
      "Loading the model from folder: /home/psoulos/workspace/space-of-representations/results/FullyConnected200ReluDiscriminator/2017-05-04-09-09-18/checkpoints/\n",
      "INFO:tensorflow:Restoring parameters from /home/psoulos/workspace/space-of-representations/results/FullyConnected200ReluDiscriminator/2017-05-04-09-09-18/checkpoints/checkpoint-50000\n",
      "Extracting data/train-images-idx3-ubyte.gz\n",
      "Extracting data/train-labels-idx1-ubyte.gz\n",
      "Extracting data/t10k-images-idx3-ubyte.gz\n",
      "Extracting data/t10k-labels-idx1-ubyte.gz\n",
      "Loading the model from folder: /home/psoulos/workspace/space-of-representations/results/FullyConnected100ReluDiscriminator2/2017-05-04-09-10-51/checkpoints/\n",
      "INFO:tensorflow:Restoring parameters from /home/psoulos/workspace/space-of-representations/results/FullyConnected100ReluDiscriminator2/2017-05-04-09-10-51/checkpoints/checkpoint-50000\n",
      "Extracting data/train-images-idx3-ubyte.gz\n",
      "Extracting data/train-labels-idx1-ubyte.gz\n",
      "Extracting data/t10k-images-idx3-ubyte.gz\n",
      "Extracting data/t10k-labels-idx1-ubyte.gz\n",
      "Loading the model from folder: /home/psoulos/workspace/space-of-representations/results/FullyConnected100SigmoidDiscriminator/2017-05-03-11-47-58/checkpoints/\n",
      "INFO:tensorflow:Restoring parameters from /home/psoulos/workspace/space-of-representations/results/FullyConnected100SigmoidDiscriminator/2017-05-03-11-47-58/checkpoints/checkpoint-50000\n",
      "Extracting data/train-images-idx3-ubyte.gz\n",
      "Extracting data/train-labels-idx1-ubyte.gz\n",
      "Extracting data/t10k-images-idx3-ubyte.gz\n",
      "Extracting data/t10k-labels-idx1-ubyte.gz\n",
      "Loading the model from folder: /home/psoulos/workspace/space-of-representations/results/FullyConnected10SigmoidDiscriminator/2017-05-03-12-30-30/checkpoints/\n",
      "INFO:tensorflow:Restoring parameters from /home/psoulos/workspace/space-of-representations/results/FullyConnected10SigmoidDiscriminator/2017-05-03-12-30-30/checkpoints/checkpoint-50000\n",
      "Extracting data/train-images-idx3-ubyte.gz\n",
      "Extracting data/train-labels-idx1-ubyte.gz\n",
      "Extracting data/t10k-images-idx3-ubyte.gz\n",
      "Extracting data/t10k-labels-idx1-ubyte.gz\n",
      "Loading the model from folder: /home/psoulos/workspace/space-of-representations/results/Conv5FeaturesDiscriminator/2017-05-04-14-16-29/checkpoints/\n",
      "INFO:tensorflow:Restoring parameters from /home/psoulos/workspace/space-of-representations/results/Conv5FeaturesDiscriminator/2017-05-04-14-16-29/checkpoints/checkpoint-50000\n",
      "Extracting data/train-images-idx3-ubyte.gz\n",
      "Extracting data/train-labels-idx1-ubyte.gz\n",
      "Extracting data/t10k-images-idx3-ubyte.gz\n",
      "Extracting data/t10k-labels-idx1-ubyte.gz\n",
      "Loading the model from folder: /home/psoulos/workspace/space-of-representations/results/Conv8FeaturesDiscriminator/2017-05-04-14-11-02/checkpoints/\n",
      "INFO:tensorflow:Restoring parameters from /home/psoulos/workspace/space-of-representations/results/Conv8FeaturesDiscriminator/2017-05-04-14-11-02/checkpoints/checkpoint-50000\n"
     ]
    }
   ],
   "source": [
    "import json\n",
    "import matplotlib.pyplot as plt\n",
    "import numpy as np\n",
    "import scipy\n",
    "\n",
    "from tensorflow.examples.tutorials.mnist import input_data\n",
    "from tsne import bh_sne\n",
    "\n",
    "from models import FullyConnectedDiscriminator, ConvDiscriminator\n",
    "\n",
    "result_dirs = [('FC 10 Elu' , './results/FullyConnected10EluDiscriminator/2017-05-03-12-32-04/'),\n",
    "               ('FC 100 Relu', './results/FullyConnected100ReluDiscriminator/2017-05-03-11-42-37/'),\n",
    "               ('FC 100 Elu', './results/FullyConnected100EluDiscriminator/2017-05-03-12-33-06/'),\n",
    "               ('FC 10 Relu', './results/FullyConnected10ReluDiscriminator/2017-05-04-10-38-11/'),\n",
    "               ('FC 200 Relu', './results/FullyConnected200ReluDiscriminator/2017-05-04-09-09-18/'),\n",
    "               ('FC 100 Relu 2', './results/FullyConnected100ReluDiscriminator2/2017-05-04-09-10-51/'),\n",
    "               ('FC 100 Sigmoid', './results/FullyConnected100SigmoidDiscriminator/2017-05-03-11-47-58/'),\n",
    "               ('FC 10 Sigmoid', './results/FullyConnected10SigmoidDiscriminator/2017-05-03-12-30-30/'),\n",
    "               ('Conv 5 Features', './results/Conv5FeaturesDiscriminator/2017-05-04-14-16-29/'),\n",
    "               ('Conv 8 Features', './results/Conv8FeaturesDiscriminator/2017-05-04-14-11-02/'),]\n",
    "\n",
    "# seed = 0\n",
    "batch_size = 1000\n",
    "\n",
    "mnist = input_data.read_data_sets('data/', validation_size=batch_size)\n",
    "images, labels = mnist.validation.next_batch(batch_size)\n",
    "# bh_sne needs data as float64\n",
    "images = np.asarray(images).astype('float64')\n",
    "\n",
    "distance_matrices = []\n",
    "\n",
    "for i, item in enumerate(result_dirs):\n",
    "    name = item[0]\n",
    "    result_dir = item[1]\n",
    "    with open(result_dir + 'config.json', 'r') as config_file:\n",
    "        config = json.load(config_file)\n",
    "    if (name.startswith('Conv')):\n",
    "        model = ConvDiscriminator(config)\n",
    "    else:\n",
    "        model = FullyConnectedDiscriminator(config)\n",
    "    sess = model.sess\n",
    "    representation = sess.run(model.representation, {model.x: images})\n",
    "    # bh_sne needs data as float64\n",
    "    representation = np.asarray(representation).astype('float64')\n",
    "    min_ = np.min(representation)\n",
    "    max_ = np.max(representation)\n",
    "    representation = (representation - min_) / (max_ - min_)\n",
    "    '''\n",
    "    sne_data = bh_sne(representation)\n",
    "    sne_x = sne_data[:, 0]\n",
    "    sne_y = sne_data[:, 1]\n",
    "    plt.figure(figsize=(20, 15), dpi=100, facecolor='w', edgecolor='k')\n",
    "    plt.scatter(sne_x, sne_y, c=labels, cmap=plt.cm.get_cmap('jet', 10))\n",
    "    plt.colorbar(ticks=range(10))\n",
    "    plt.title(item[0])\n",
    "    plt.show()\n",
    "    '''\n",
    "    distance_matrices.append(scipy.spatial.distance.pdist(representation, metric='euclidean'))"
   ]
  },
  {
   "cell_type": "code",
   "execution_count": 2,
   "metadata": {},
   "outputs": [
    {
     "name": "stdout",
     "output_type": "stream",
     "text": [
      "Distance matrices shape: (10, 499500)\n"
     ]
    }
   ],
   "source": [
    "distance_matrices = np.matrix(distance_matrices)\n",
    "print('Distance matrices shape: {}'.format(distance_matrices.shape))\n",
    "# bh_sne needs data as float64\n",
    "distance_matrices = np.asarray(distance_matrices).astype('float64')\n",
    "meta_sne = bh_sne(distance_matrices, perplexity=3)"
   ]
  },
  {
   "cell_type": "code",
   "execution_count": 3,
   "metadata": {
    "scrolled": false
   },
   "outputs": [
    {
     "data": {
      "image/png": "[encoded data removed]",
      "text/plain": [
       "<matplotlib.figure.Figure at 0x7fcb0b7ca810>"
      ]
     },
     "metadata": {},
     "output_type": "display_data"
    }
   ],
   "source": [
    "sne_x = meta_sne[:, 0]\n",
    "sne_y = meta_sne[:, 1]\n",
    "\n",
    "\n",
    "fig, ax = plt.subplots(figsize=(15,15))\n",
    "ax.scatter(sne_x, sne_y)\n",
    "names = [x[0] for x in result_dirs]\n",
    "for i, name in enumerate(names):\n",
    "    ax.annotate(name, (sne_x[i], sne_y[i]))\n",
    "plt.title('Meta-SNE')\n",
    "plt.show()\n",
    "\n",
    "#plt.figure(figsize=(5, 5), dpi=100, facecolor='w', edgecolor='k')\n",
    "#plt#, c=labels, cmap=plt.cm.get_cmap('jet', 10))\n",
    "#plt.colorbar(ticks=range(10))\n",
    "#plt.title('Meta-SNE')\n",
    "#plt.show()\n",
    "\n",
    "\n",
    "\n"
   ]
  },
  {
   "cell_type": "code",
   "execution_count": null,
   "metadata": {
    "collapsed": true
   },
   "outputs": [],
   "source": []
  }
 ],
 "metadata": {
  "kernelspec": {
   "display_name": "Python 2",
   "language": "python",
   "name": "python2"
  },
  "language_info": {
   "codemirror_mode": {
    "name": "ipython",
    "version": 2
   },
   "file_extension": ".py",
   "mimetype": "text/x-python",
   "name": "python",
   "nbconvert_exporter": "python",
   "pygments_lexer": "ipython2",
   "version": "2.7.13"
  }
 },
 "nbformat": 4,
 "nbformat_minor": 2
}
